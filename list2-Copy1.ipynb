{
 "cells": [
  {
   "cell_type": "code",
   "execution_count": 4,
   "id": "a9c49d42-671d-49c8-8d1a-d6e97da4d7e5",
   "metadata": {},
   "outputs": [],
   "source": [
    "x=[\"pranav\",30,19,\"22/5/2004\",\"kunnamkulam\"]"
   ]
  },
  {
   "cell_type": "code",
   "execution_count": 5,
   "id": "7feec93c-4f2a-4efc-92d2-c3fb798c249b",
   "metadata": {},
   "outputs": [
    {
     "name": "stdout",
     "output_type": "stream",
     "text": [
      "['pranav', 30, 19, '22/5/2004', 'kunnamkulam']\n"
     ]
    }
   ],
   "source": [
    "print(x)"
   ]
  },
  {
   "cell_type": "code",
   "execution_count": 6,
   "id": "ec312c3c-7f22-4628-8b35-71c85ffd10b7",
   "metadata": {},
   "outputs": [
    {
     "data": {
      "text/plain": [
       "'pranav'"
      ]
     },
     "execution_count": 6,
     "metadata": {},
     "output_type": "execute_result"
    }
   ],
   "source": [
    "x[0]"
   ]
  },
  {
   "cell_type": "code",
   "execution_count": 8,
   "id": "d9736d51-0500-4422-8018-b9fa3f9060a1",
   "metadata": {},
   "outputs": [
    {
     "data": {
      "text/plain": [
       "'22/5/2004'"
      ]
     },
     "execution_count": 8,
     "metadata": {},
     "output_type": "execute_result"
    }
   ],
   "source": [
    "x[3]"
   ]
  },
  {
   "cell_type": "code",
   "execution_count": 15,
   "id": "ed63b6d8-25d2-47c2-8855-084eb4ba3d66",
   "metadata": {},
   "outputs": [],
   "source": [
    "x.append(\"thrissur\")"
   ]
  },
  {
   "cell_type": "code",
   "execution_count": 16,
   "id": "2f4e3122-ba4f-4f56-9baf-4f9fe351e91d",
   "metadata": {},
   "outputs": [
    {
     "name": "stdout",
     "output_type": "stream",
     "text": [
      "['pranav', 30, 19, '22/5/2004', 'kunnamkulam', 'malapuram', 'thrissur', 'thrissur']\n"
     ]
    }
   ],
   "source": [
    "print(x)"
   ]
  },
  {
   "cell_type": "code",
   "execution_count": 17,
   "id": "81b7f1c2-ba8d-42e8-b645-52720033e0ee",
   "metadata": {},
   "outputs": [],
   "source": [
    "x.insert(1,\"kerala\")"
   ]
  },
  {
   "cell_type": "code",
   "execution_count": 18,
   "id": "1c457b65-34e7-46e2-8800-ec0c858c5b8d",
   "metadata": {},
   "outputs": [
    {
     "name": "stdout",
     "output_type": "stream",
     "text": [
      "['pranav', 'kerala', 30, 19, '22/5/2004', 'kunnamkulam', 'malapuram', 'thrissur', 'thrissur']\n"
     ]
    }
   ],
   "source": [
    "print(x)"
   ]
  },
  {
   "cell_type": "code",
   "execution_count": 43,
   "id": "2c23ae71-9c0b-4410-a9c5-ed7ad895171e",
   "metadata": {},
   "outputs": [
    {
     "name": "stdin",
     "output_type": "stream",
     "text": [
      "enter your marks: 55\n"
     ]
    },
    {
     "name": "stdout",
     "output_type": "stream",
     "text": [
      "passed\n"
     ]
    }
   ],
   "source": [
    "x=int(input(\"enter your marks:\"))\n",
    "if x>50:\n",
    "    print(\"passed\")\n",
    "else:\n",
    "    print(\"failed\")\n"
   ]
  },
  {
   "cell_type": "code",
   "execution_count": 59,
   "id": "89ed0965-f3ee-42bc-872c-bdb4a8910aae",
   "metadata": {},
   "outputs": [
    {
     "name": "stdin",
     "output_type": "stream",
     "text": [
      "enter a name: yadhu\n"
     ]
    }
   ],
   "source": [
    "x=[\"tony\",\"bharath\",\"kannan\"]\n",
    "y=input(\"enter a name:\")\n",
    "x.append(y)"
   ]
  },
  {
   "cell_type": "code",
   "execution_count": null,
   "id": "f8fe2554-fcef-4672-a0d3-dc19e886200d",
   "metadata": {},
   "outputs": [],
   "source": []
  },
  {
   "cell_type": "code",
   "execution_count": null,
   "id": "6d60a222-48f8-4a8b-a2dc-dc1cc7810e82",
   "metadata": {},
   "outputs": [],
   "source": []
  }
 ],
 "metadata": {
  "kernelspec": {
   "display_name": "Python 3 (ipykernel)",
   "language": "python",
   "name": "python3"
  },
  "language_info": {
   "codemirror_mode": {
    "name": "ipython",
    "version": 3
   },
   "file_extension": ".py",
   "mimetype": "text/x-python",
   "name": "python",
   "nbconvert_exporter": "python",
   "pygments_lexer": "ipython3",
   "version": "3.9.12"
  }
 },
 "nbformat": 4,
 "nbformat_minor": 5
}
